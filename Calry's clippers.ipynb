{
 "cells": [
  {
   "cell_type": "code",
   "execution_count": 26,
   "id": "1cbafcaa-b566-4d3e-9d50-28b24f85a650",
   "metadata": {},
   "outputs": [],
   "source": [
    "hairstyles = [\"bouffant\", \"pixie\", \"dreadlocks\", \"crew\", \"bowl\", \"bob\", \"mohawk\", \"flattop\"]"
   ]
  },
  {
   "cell_type": "code",
   "execution_count": 27,
   "id": "cf0969cc-86ff-4684-aafa-8b6d702b3d56",
   "metadata": {},
   "outputs": [],
   "source": [
    "prices = [30, 25, 40, 20, 20, 35, 50, 35]"
   ]
  },
  {
   "cell_type": "code",
   "execution_count": 28,
   "id": "49360f6b-3167-4faf-9768-90c3355b0ed4",
   "metadata": {},
   "outputs": [],
   "source": [
    "last_week = [2, 3, 5, 8, 4, 4, 6, 2]"
   ]
  },
  {
   "cell_type": "code",
   "execution_count": 29,
   "id": "3b9a4d57-ae2d-4d81-b856-77f59ebc7804",
   "metadata": {},
   "outputs": [],
   "source": [
    "total_price = 0"
   ]
  },
  {
   "cell_type": "code",
   "execution_count": 30,
   "id": "e50acec7-2ca6-49b1-b034-3a51a210149b",
   "metadata": {},
   "outputs": [],
   "source": [
    "for price in prices:\n",
    "    total_price += price"
   ]
  },
  {
   "cell_type": "code",
   "execution_count": 35,
   "id": "8828bc3b-c39a-4387-a250-6752534a719d",
   "metadata": {},
   "outputs": [],
   "source": [
    "average_price = total_price / len(prices)"
   ]
  },
  {
   "cell_type": "code",
   "execution_count": 37,
   "id": "67d8f6be-2ff0-4b8d-a414-adee230abdef",
   "metadata": {},
   "outputs": [
    {
     "name": "stdout",
     "output_type": "stream",
     "text": [
      "Average price is 31.875\n"
     ]
    }
   ],
   "source": [
    "print(\"Average price is\", average_price)"
   ]
  },
  {
   "cell_type": "code",
   "execution_count": 38,
   "id": "245d6143-d8d9-4358-b1ef-462869c8891a",
   "metadata": {},
   "outputs": [],
   "source": [
    "new_prices = [cheap - 5 for cheap in prices]"
   ]
  },
  {
   "cell_type": "code",
   "execution_count": 39,
   "id": "df94f676-125f-4078-9e02-d317f273b7de",
   "metadata": {},
   "outputs": [
    {
     "name": "stdout",
     "output_type": "stream",
     "text": [
      "[25, 20, 35, 15, 15, 30, 45, 30]\n"
     ]
    }
   ],
   "source": [
    "print(new_prices)"
   ]
  },
  {
   "cell_type": "code",
   "execution_count": 43,
   "id": "e714a902-8552-4c44-94fa-a91b7aca2970",
   "metadata": {},
   "outputs": [],
   "source": [
    "total_revenue = 0"
   ]
  },
  {
   "cell_type": "code",
   "execution_count": 44,
   "id": "e13112f1-6e92-4fc1-9cf9-1add7c434786",
   "metadata": {},
   "outputs": [],
   "source": [
    "for i in range(len(hairstyles)):\n",
    "    total_revenue += prices[i] * last_week[i]"
   ]
  },
  {
   "cell_type": "code",
   "execution_count": 45,
   "id": "40007e39-bc22-43f3-80e0-994c056cc6c6",
   "metadata": {},
   "outputs": [
    {
     "name": "stdout",
     "output_type": "stream",
     "text": [
      "1085\n"
     ]
    }
   ],
   "source": [
    "print(total_revenue)"
   ]
  },
  {
   "cell_type": "code",
   "execution_count": 46,
   "id": "1e978649-4829-4a77-aed0-ba9fe961a9f8",
   "metadata": {},
   "outputs": [],
   "source": [
    "average_daily_revenue = total_revenue / 7"
   ]
  },
  {
   "cell_type": "code",
   "execution_count": 48,
   "id": "02100293-2acd-4a2c-9ab0-6f52d1f7a30b",
   "metadata": {},
   "outputs": [
    {
     "name": "stdout",
     "output_type": "stream",
     "text": [
      "Average daily revenue is  155.0\n"
     ]
    }
   ],
   "source": [
    "print(\"Average daily revenue is \",average_daily_revenue)"
   ]
  },
  {
   "cell_type": "code",
   "execution_count": 49,
   "id": "c59256f7-80e2-4698-8271-a841aa798ac8",
   "metadata": {},
   "outputs": [],
   "source": [
    "cuts_under_30 = [hairstyles[i] for i in range(len(new_prices)) if (new_prices[i] < 30)]"
   ]
  },
  {
   "cell_type": "code",
   "execution_count": 50,
   "id": "388724bd-6976-4204-b123-52887d70baa8",
   "metadata": {},
   "outputs": [
    {
     "name": "stdout",
     "output_type": "stream",
     "text": [
      "['bouffant', 'pixie', 'crew', 'bowl']\n"
     ]
    }
   ],
   "source": [
    "print(cuts_under_30)"
   ]
  }
 ],
 "metadata": {
  "kernelspec": {
   "display_name": "Python 3 (ipykernel)",
   "language": "python",
   "name": "python3"
  },
  "language_info": {
   "codemirror_mode": {
    "name": "ipython",
    "version": 3
   },
   "file_extension": ".py",
   "mimetype": "text/x-python",
   "name": "python",
   "nbconvert_exporter": "python",
   "pygments_lexer": "ipython3",
   "version": "3.10.9"
  }
 },
 "nbformat": 4,
 "nbformat_minor": 5
}
