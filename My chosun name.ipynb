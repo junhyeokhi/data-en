{
 "cells": [
  {
   "cell_type": "code",
   "execution_count": 13,
   "id": "8912841c-3596-4aeb-9e6c-6ddaf0281ace",
   "metadata": {},
   "outputs": [],
   "source": [
    "month_name = [\"쌍\", \"쇠\", \"복\", \"돌\", \"팽\", \"육\", \"쌍\", \"개\", \"칠\", \"갑\", \"삼\", \"방\"]"
   ]
  },
  {
   "cell_type": "code",
   "execution_count": 14,
   "id": "86c44e65-1322-48ac-985b-ef81906300de",
   "metadata": {},
   "outputs": [],
   "source": [
    "day_name = ['봉', '구', '욕', '포', '똥', '삼', '식', '석', '놈', '님', '년', '돌', '단', '득', '방', '질', '장', '걸', '래', '룡', '동', '순', '자', '박', '창', '언', '것', '포', '만', '단', '국']\n"
   ]
  },
  {
   "cell_type": "code",
   "execution_count": 15,
   "id": "49d310c9-c15e-47a9-b9aa-71b37075b34d",
   "metadata": {},
   "outputs": [],
   "source": [
    "def get_my_chosun_name(family_name, month, day):\n",
    "    return family_name + month_name[month -1] + day_name[day -1]"
   ]
  },
  {
   "cell_type": "code",
   "execution_count": 16,
   "id": "f18406d0-2242-4472-a980-7304032dd036",
   "metadata": {},
   "outputs": [
    {
     "data": {
      "text/plain": [
       "'이복구'"
      ]
     },
     "execution_count": 16,
     "metadata": {},
     "output_type": "execute_result"
    }
   ],
   "source": [
    "get_my_chosun_name('이', 3, 2)"
   ]
  },
  {
   "cell_type": "code",
   "execution_count": 18,
   "id": "b5784400-be31-49c0-867a-9321f6522bae",
   "metadata": {},
   "outputs": [
    {
     "name": "stdout",
     "output_type": "stream",
     "text": [
      "당신의 조선시대 이름은 get_my_chosun_name 입니다.\n"
     ]
    }
   ],
   "source": [
    "print('당신의 조선시대 이름은 get_my_chosun_name 입니다.')"
   ]
  }
 ],
 "metadata": {
  "kernelspec": {
   "display_name": "Python 3 (ipykernel)",
   "language": "python",
   "name": "python3"
  },
  "language_info": {
   "codemirror_mode": {
    "name": "ipython",
    "version": 3
   },
   "file_extension": ".py",
   "mimetype": "text/x-python",
   "name": "python",
   "nbconvert_exporter": "python",
   "pygments_lexer": "ipython3",
   "version": "3.10.9"
  }
 },
 "nbformat": 4,
 "nbformat_minor": 5
}
